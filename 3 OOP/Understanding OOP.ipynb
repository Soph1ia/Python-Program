{
 "cells": [
  {
   "cell_type": "markdown",
   "id": "68f7b9c5",
   "metadata": {},
   "source": [
    "# Understanding Object Oriented Programming (OOP)\n",
    "\n",
    "In this section we are going to learn a lot about OOP. So Let's get started! \n",
    "\n",
    "## Step One : Understanding Objects\n",
    "Objects are the basic building blocks of Object-Oriented Programming. They represent real-world entities, such as a car, a person, or a bank account. In Python, an object is an instance of a class.\n",
    "\n",
    "To create an object in Python, you first need to define a class. A class is like a blueprint or template for creating objects. It specifies the attributes and methods that the objects will have.\n",
    "\n",
    "Here's an example of a simple class in Python:"
   ]
  },
  {
   "cell_type": "code",
   "execution_count": null,
   "id": "93d5c288",
   "metadata": {},
   "outputs": [],
   "source": [
    "class Car:\n",
    "    def __init__(self, make, model, year):\n",
    "        self.make = make\n",
    "        self.model = model\n",
    "        self.year = year\n",
    "\n",
    "    def start(self):\n",
    "        print(\"The car has started.\")"
   ]
  },
  {
   "cell_type": "markdown",
   "id": "47417854",
   "metadata": {},
   "source": [
    "In this example, we've defined a `Car` class that has three attributes (`make`, `model`, and `year`) and one method (`start`). The `__init__` method is a special method that is called when a new object is created. It initializes the attributes of the object with the values passed as arguments.\n",
    "\n",
    "## Step 2: Creating Objects\n",
    "Now that we've defined a class, we can create objects of that class. To create an object in Python, you simply call the class as if it were a function, passing in any arguments required by the `__init__` method.\n",
    "\n",
    "Here's an example of creating an object of the `Car` class:"
   ]
  },
  {
   "cell_type": "code",
   "execution_count": null,
   "id": "868e7974",
   "metadata": {},
   "outputs": [],
   "source": [
    "my_car = Car(\"Honda\", \"Civic\", 2022)"
   ]
  },
  {
   "cell_type": "markdown",
   "id": "708eb473",
   "metadata": {},
   "source": [
    "In this example, we've created an object of the `Car` class and assigned it to the variable `my_car`. We've passed in three arguments to the `__init__` method to set the attributes of the object.\n",
    "\n",
    "## Step 3: Accessing Object Attributes\n",
    "Once you've created an object, you can access its attributes using the dot notation. The dot notation is used to access attributes and methods of an object.\n",
    "\n",
    "Here's an example of accessing the attributes of the `my_car` object:"
   ]
  },
  {
   "cell_type": "code",
   "execution_count": null,
   "id": "36a1607d",
   "metadata": {},
   "outputs": [],
   "source": [
    "print(my_car.make)\n",
    "print(my_car.model)\n",
    "print(my_car.year)"
   ]
  },
  {
   "cell_type": "markdown",
   "id": "f8e21d86",
   "metadata": {},
   "source": [
    "In this example, we've printed out the `make`, `model`, and `year` attributes of the `my_car` object.\n",
    "\n",
    "## Step 4: Calling Object Methods\n",
    "In addition to attributes, objects can also have methods. Methods are functions that are associated with an object and can be used to perform operations on the object.\n",
    "\n",
    "Here's an example of calling the `start()` method on the `my_car` object:"
   ]
  },
  {
   "cell_type": "code",
   "execution_count": null,
   "id": "21013e34",
   "metadata": {},
   "outputs": [],
   "source": [
    "my_car.start()"
   ]
  },
  {
   "cell_type": "markdown",
   "id": "cbd6ec47",
   "metadata": {},
   "source": [
    "In this example, we've called the `start()` method on the `my_car` object, which will print out \"The car has started.\" to the console.\n",
    "\n",
    "## Step 5: Inheritance\n",
    "One of the key features of OOP is inheritance. Inheritance allows you to create a new class that is a modified version of an existing class. The new class inherits all the attributes and methods of the existing class and can also have its own attributes and methods.\n",
    "\n",
    "Here's an example of creating a new class (`ElectricCar`) that inherits from the `Car` class:"
   ]
  },
  {
   "cell_type": "code",
   "execution_count": null,
   "id": "78a470e9",
   "metadata": {},
   "outputs": [],
   "source": [
    "class ElectricCar(Car):\n",
    "    def __init__(self, make, model, year, battery_size):\n",
    "        super().__init__(make, model, year)\n",
    "        self.battery_size = battery_size\n",
    "\n",
    "    def charge(self):\n",
    "        print(\"The car is charging.\")"
   ]
  },
  {
   "cell_type": "markdown",
   "id": "04e5faf6",
   "metadata": {},
   "source": [
    "In this example, we've created a new `ElectricCar` class that inherits from the `Car` class. The `ElectricCar` class has an additional attribute (`battery_size`) and method (`charge()`)\n",
    "\n",
    "## Step 6: Overriding Methods\n",
    "When you create a new class that inherits from an existing class, you can override the methods of the parent class in the child class. This allows you to modify the behavior of the method in the child class.\n",
    "\n",
    "Here's an example of overriding the `start()` method in the `ElectricCar` class:"
   ]
  },
  {
   "cell_type": "code",
   "execution_count": null,
   "id": "bfd3b1aa",
   "metadata": {},
   "outputs": [],
   "source": [
    "class ElectricCar(Car):\n",
    "    def __init__(self, make, model, year, battery_size):\n",
    "        super().__init__(make, model, year)\n",
    "        self.battery_size = battery_size\n",
    "\n",
    "    def start(self):\n",
    "        print(\"The electric car has started.\")\n",
    "\n",
    "    def charge(self):\n",
    "        print(\"The car is charging.\")"
   ]
  },
  {
   "cell_type": "markdown",
   "id": "57fd1a25",
   "metadata": {},
   "source": [
    "In this example, we've overridden the `start()` method in the `ElectricCar` class to print out \"The electric car has started.\" instead of \"The car has started.\"\n",
    "\n",
    "## Step 7: Polymorphism\n",
    "Another key feature of OOP is polymorphism. Polymorphism allows objects of different classes to be treated as if they were the same class. This is useful when you want to write code that works with multiple classes that have similar attributes and methods.\n",
    "\n",
    "Here's an example of using polymorphism with the `Car` and `ElectricCar` classes:"
   ]
  },
  {
   "cell_type": "code",
   "execution_count": null,
   "id": "ff9c52fe",
   "metadata": {},
   "outputs": [],
   "source": [
    "def print_car_info(car):\n",
    "    print(f\"Make: {car.make}\")\n",
    "    print(f\"Model: {car.model}\")\n",
    "    print(f\"Year: {car.year}\")\n",
    "\n",
    "my_car = Car(\"Honda\", \"Civic\", 2022)\n",
    "my_electric_car = ElectricCar(\"Tesla\", \"Model S\", 2022, 100)\n",
    "\n",
    "print_car_info(my_car)\n",
    "print_car_info(my_electric_car)"
   ]
  },
  {
   "cell_type": "markdown",
   "id": "4cbfa97e",
   "metadata": {},
   "source": [
    "In this example, we've defined a function called `print_car_info()` that takes a `Car` object as a parameter and prints out its `make`, `model`, and `year` attributes. We then create objects of both the `Car` and `ElectricCar` classes and pass them to the `print_car_info()` function. The function works with both objects because the `ElectricCar` class inherits from the `Car` class and has the same attributes.\n",
    "\n",
    "## Step 8: Encapsulation\n",
    "Encapsulation is the practice of hiding the internal details of an object and exposing only the necessary information to the outside world. This is done by using access modifiers like public, private and protected. \n",
    "\n",
    "In Python, there is no true private or protected access modifiers, but you can use convention to indicate that certain attributes or methods should not be accessed from outside the class.\n",
    "\n",
    "Here's an example of using encapsulation in the `Car` class:"
   ]
  },
  {
   "cell_type": "code",
   "execution_count": null,
   "id": "97375256",
   "metadata": {},
   "outputs": [],
   "source": [
    "class Car:\n",
    "    def __init__(self, make, model, year, _odometer_reading=0):\n",
    "        self.make = make\n",
    "        self.model = model\n",
    "        self.year = year\n",
    "        self._odometer_reading = _odometer_reading\n",
    "\n",
    "    def start(self):\n",
    "        print(\"The car has started.\")\n",
    "\n",
    "    def get_odometer_reading(self):\n",
    "        return self._odometer_reading\n",
    "\n",
    "    def set_odometer_reading(self, odometer_reading):\n",
    "        if odometer_reading >= self._odometer_reading:\n",
    "            self._odometer_reading = odometer_reading\n",
    "        else:\n",
    "            print(\"You cannot roll back the odometer.\")\n",
    "\n",
    "my_car = Car(\"Honda\", \"Civic\", 2022)\n",
    "\n",
    "print(my_car.get_odometer_reading())\n",
    "my_car.set_odometer_reading(1000)\n",
    "print(my_car.get_odometer_reading())\n",
    "my_car.set_odometer_reading(500)"
   ]
  },
  {
   "cell_type": "markdown",
   "id": "0c9968e7",
   "metadata": {},
   "source": [
    "In this example, we've added an `_odometer_reading` attribute to the `Car` class and made it private by starting its name with an underscore. We've also added `get_odometer_reading()` and `set_odometer_reading()` methods to allow access to this attribute from outside the class.\n",
    "\n",
    "The `get_odometer_reading()` method allows you to get the value of the `_odometer_reading` attribute, while the `set_odometer_reading()` method allows you to set the value of the `_odometer_reading` attribute, but only if the new value is greater than or equal to the current value.\n",
    "\n",
    "## Step 9: Using Decorators to Implement Encapsulation\n",
    "In Python, you can use decorators to implement encapsulation. A decorator is a function that takes another function as input and returns a new function. In this case, we can use a decorator to create a property that can be accessed and modified like an attribute, but is actually implemented using getter and setter methods.\n",
    "\n",
    "Here's an example of using a decorator to implement encapsulation in the `Car` class:"
   ]
  },
  {
   "cell_type": "code",
   "execution_count": null,
   "id": "8211838f",
   "metadata": {},
   "outputs": [],
   "source": [
    "class Car:\n",
    "    def __init__(self, make, model, year, odometer_reading=0):\n",
    "        self.make = make\n",
    "        self.model = model\n",
    "        self.year = year\n",
    "        self._odometer_reading = odometer_reading\n",
    "\n",
    "    def start(self):\n",
    "        print(\"The car has started.\")\n",
    "\n",
    "    @property\n",
    "    def odometer_reading(self):\n",
    "        return self._odometer_reading\n",
    "\n",
    "    @odometer_reading.setter\n",
    "    def odometer_reading(self, value):\n",
    "        if value >= self._odometer_reading:\n",
    "            self._odometer_reading = value\n",
    "        else:\n",
    "            print(\"You cannot roll back the odometer.\")\n",
    "\n",
    "my_car = Car(\"Honda\", \"Civic\", 2022)\n",
    "\n",
    "print(my_car.odometer_reading)\n",
    "my_car.odometer_reading = 1000\n",
    "print(my_car.odometer_reading)\n",
    "my_car.odometer_reading = 500"
   ]
  },
  {
   "cell_type": "markdown",
   "id": "daef87a8",
   "metadata": {},
   "source": [
    "In this example, we've defined a getter method for the `odometer_reading` attribute using the `@property` decorator. We've also defined a setter method for the `odometer_reading` attribute using the `@odometer_reading.setter` decorator. The getter method returns the value of the `_odometer_reading` attribute, while the setter method sets the value of the `_odometer_reading` attribute, but only if the new value is greater than or equal to the current value.\n",
    "\n",
    "## Step 10: Conclusion\n",
    "In this tutorial, we've covered the basics of object-oriented programming in Python. We've learned about classes, objects, attributes, methods, inheritance, polymorphism, and encapsulation. These concepts are the foundation of OOP and will help you write more modular, reusable, and maintainable code. By using OOP in your Python projects, you can create complex systems with ease and increase your productivity as a programmer.\n",
    "\n",
    "As you continue to learn and practice OOP in Python, you'll likely encounter more advanced topics such as class decorators, abstract classes, interfaces, and design patterns. These topics can help you write even more powerful and efficient code.\n",
    "\n",
    "Remember that OOP is just one programming paradigm, and there are many others to explore. It's important to understand the strengths and weaknesses of each paradigm and to choose the one that's best suited for the problem you're trying to solve.\n",
    "\n",
    "I hope this tutorial has been helpful in introducing you to the basics of OOP in Python. Happy coding!"
   ]
  }
 ],
 "metadata": {
  "kernelspec": {
   "display_name": "Python 3 (ipykernel)",
   "language": "python",
   "name": "python3"
  },
  "language_info": {
   "codemirror_mode": {
    "name": "ipython",
    "version": 3
   },
   "file_extension": ".py",
   "mimetype": "text/x-python",
   "name": "python",
   "nbconvert_exporter": "python",
   "pygments_lexer": "ipython3",
   "version": "3.9.12"
  }
 },
 "nbformat": 4,
 "nbformat_minor": 5
}
