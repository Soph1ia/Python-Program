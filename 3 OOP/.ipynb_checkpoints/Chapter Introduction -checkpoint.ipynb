{
 "cells": [
  {
   "cell_type": "markdown",
   "id": "00e2a045",
   "metadata": {},
   "source": [
    "# About This Chapter \n",
    "\n",
    "- Now that you have completed the basics of python. We will now talk about Object Oriented Programming. \n",
    "\n",
    "- This is an intermediate concept, so don't worry if you find it challenging! \n"
   ]
  },
  {
   "cell_type": "code",
   "execution_count": null,
   "id": "f70004c8",
   "metadata": {},
   "outputs": [],
   "source": [
    "# Run this code block \n",
    "print(\" Let's Get Started! \")"
   ]
  }
 ],
 "metadata": {
  "kernelspec": {
   "display_name": "Python 3 (ipykernel)",
   "language": "python",
   "name": "python3"
  },
  "language_info": {
   "codemirror_mode": {
    "name": "ipython",
    "version": 3
   },
   "file_extension": ".py",
   "mimetype": "text/x-python",
   "name": "python",
   "nbconvert_exporter": "python",
   "pygments_lexer": "ipython3",
   "version": "3.9.12"
  }
 },
 "nbformat": 4,
 "nbformat_minor": 5
}
