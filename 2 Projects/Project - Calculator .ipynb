{
 "cells": [
  {
   "cell_type": "markdown",
   "id": "eae32311",
   "metadata": {},
   "source": [
    "# Project - Calculator \n",
    "\n",
    "- In this project, we will create a simple calculator program that can perform basic arithmetic operations (addition, subtraction, multiplication, and division). The program will ask the user for two numbers and an operation, and then display the result of the calculation. \n",
    "\n",
    "## Step One : Define The Main Function\n",
    "The first step is to define the main function that will contain the program logic. Let's call this function calculator. The function will prompt the user for the two numbers and the operation, perform the calculation, and then display the result. "
   ]
  },
  {
   "cell_type": "code",
   "execution_count": null,
   "id": "2ab00fd8",
   "metadata": {
    "vscode": {
     "languageId": "python"
    }
   },
   "outputs": [],
   "source": [
    "def calculator(): \n",
    "    # Ask Users For the first number \n",
    "    \n",
    "    # Ask Users for second number \n",
    "    \n",
    "    # Ask Users for the operation, +, - , / * \n",
    "    \n",
    "    # Find what operation they want to do\n",
    "    #if the user input was + then we will add number one and number two together \n",
    "    \n",
    "    # Don't Forget to print the results"
   ]
  },
  {
   "cell_type": "markdown",
   "id": "f8a48147",
   "metadata": {},
   "source": [
    "## Step Two : Call The Main Function \n",
    "Now that we've defined the calculator function, we need to call it to start the program. We can do this by adding the following line at the bottom of our code:"
   ]
  },
  {
   "cell_type": "code",
   "execution_count": null,
   "id": "a0c82857",
   "metadata": {
    "vscode": {
     "languageId": "python"
    }
   },
   "outputs": [],
   "source": [
    "# Run This Code Block to check your results!\n",
    "calculator()"
   ]
  },
  {
   "cell_type": "markdown",
   "id": "24573519",
   "metadata": {},
   "source": [
    "## Step Three : Test The Program \n",
    "That's it! We've completed our calculator program. To test it out, simply run the program and enter two numbers and an operation when prompted. The program will then display the result of the calculation."
   ]
  }
 ],
 "metadata": {
  "kernelspec": {
   "display_name": "Python 3 (ipykernel)",
   "language": "python",
   "name": "python3"
  }
 },
 "nbformat": 4,
 "nbformat_minor": 5
}
