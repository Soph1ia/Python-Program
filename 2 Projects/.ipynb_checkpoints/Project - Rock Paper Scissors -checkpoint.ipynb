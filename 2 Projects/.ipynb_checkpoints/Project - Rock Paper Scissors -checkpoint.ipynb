{
 "cells": [
  {
   "cell_type": "markdown",
   "id": "dacd7363",
   "metadata": {},
   "source": [
    "# Project : Rock - Paper - Scissors \n",
    "\n",
    "In this project, we will create a simple game of Rock-Paper-Scissors that can be played against the computer. The game will ask the user for their choice (rock, paper, or scissors), randomly generate a choice for the computer, and then determine the winner based on the rules of the game.\n",
    "\n",
    "## Step One : Import The necessary modules \n",
    "The first step is to import the **random** module, which we will use to generate a random choice for the computer."
   ]
  },
  {
   "cell_type": "code",
   "execution_count": null,
   "id": "869660b6",
   "metadata": {
    "scrolled": true
   },
   "outputs": [],
   "source": [
    "import _____ "
   ]
  },
  {
   "cell_type": "markdown",
   "id": "78707781",
   "metadata": {},
   "source": [
    "## Step Two : Define The Main Function \n",
    "The next step is to define the main function that will contain the program logic. Let's call this function play_game. The function will prompt the user for their choice, randomly generate a choice for the computer, determine the winner, and then display the result."
   ]
  },
  {
   "cell_type": "code",
   "execution_count": null,
   "id": "2cfe7cd4",
   "metadata": {},
   "outputs": [],
   "source": [
    "def play_game():\n",
    "    # Prompt the user for their choice\n",
    "\n",
    "\n",
    "    # Generate a random choice for the computer\n",
    "\n",
    "\n",
    "    # Determine the winner\n",
    "\n",
    "    # Display the result\n"
   ]
  },
  {
   "cell_type": "markdown",
   "id": "f47831d0",
   "metadata": {},
   "source": [
    "## Step Two : Call The Main Function \n",
    "Now that we've defined the play_game function, we need to call it to start the game. We can do this by adding the following line at the bottom of our code:"
   ]
  },
  {
   "cell_type": "code",
   "execution_count": null,
   "id": "d4a9818d",
   "metadata": {
    "scrolled": true
   },
   "outputs": [],
   "source": [
    "play_game()"
   ]
  },
  {
   "cell_type": "markdown",
   "id": "b5c9519b",
   "metadata": {},
   "source": [
    "## Step Three : Test The Program \n",
    "That's it! We've completed our Rock-Paper-Scissors game. To test it out, simply run the program and enter your choice when prompted. The program will then generate a random choice for the computer and determine the winner based on the rules of the game."
   ]
  }
 ],
 "metadata": {
  "kernelspec": {
   "display_name": "Python 3 (ipykernel)",
   "language": "python",
   "name": "python3"
  },
  "language_info": {
   "codemirror_mode": {
    "name": "ipython",
    "version": 3
   },
   "file_extension": ".py",
   "mimetype": "text/x-python",
   "name": "python",
   "nbconvert_exporter": "python",
   "pygments_lexer": "ipython3",
   "version": "3.9.12"
  }
 },
 "nbformat": 4,
 "nbformat_minor": 5
}
