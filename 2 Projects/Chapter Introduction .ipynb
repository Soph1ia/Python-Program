{
 "cells": [
  {
   "cell_type": "markdown",
   "id": "e3c0fbf8",
   "metadata": {},
   "source": [
    "# This Chapter \n",
    "\n",
    "- In This chapter you will get to put your new skills to the test. \n",
    "\n",
    "- You will learn how to import packages and you will complete your own mini projects in python! \n",
    "\n",
    "\n",
    "## Mini Projects \n",
    "\n",
    "- You will complete a mini project where you will ask the user to guess the correct number\n",
    "\n",
    "- Calculator Project \n",
    "\n",
    "- Project Rock Paper Scissors \n",
    "\n",
    "- Password Generator \n"
   ]
  },
  {
   "cell_type": "code",
   "execution_count": null,
   "id": "fde7000b",
   "metadata": {},
   "outputs": [],
   "source": [
    "# Run This Code Block :) \n",
    "print(\"Let's Start Coding !! \")"
   ]
  }
 ],
 "metadata": {
  "kernelspec": {
   "display_name": "Python 3 (ipykernel)",
   "language": "python",
   "name": "python3"
  },
  "language_info": {
   "codemirror_mode": {
    "name": "ipython",
    "version": 3
   },
   "file_extension": ".py",
   "mimetype": "text/x-python",
   "name": "python",
   "nbconvert_exporter": "python",
   "pygments_lexer": "ipython3",
   "version": "3.9.12"
  }
 },
 "nbformat": 4,
 "nbformat_minor": 5
}
