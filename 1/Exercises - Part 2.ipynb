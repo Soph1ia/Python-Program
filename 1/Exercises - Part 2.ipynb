{
 "cells": [
  {
   "cell_type": "markdown",
   "metadata": {},
   "source": [
    "### Lists\n",
    "\n",
    "```python\n",
    "# Example\n",
    "cars = [\"Ford\", \"Mercedes\", \"Nissan\"]\n",
    "cars[0] = \"Tesla\"\n",
    "print(cars)  # prints ['Tesla', 'Mercedes', 'Nissan']\n",
    "```\n",
    "\n",
    "1. Assign the variable `fruits = [\"apple\", \"pear\", \"banana\", \"mango\", \"peach\"]`\n",
    "2. Use the square brackets `[` `]` to print only `\"banana\"`\n",
    "3. Use the square brackets `[` `]` to print only the last to items `\"mango\"` and `\"peach\"`\n",
    "4. Use the square brackets `[` `]` to replace `\"apple\"` with `\"orange\"` (see the example)\n",
    "5. Use `.append()` method to add `\"kiwi\"` to the list of fruits\n",
    "6. Remove `\"pear\"` from the list of fruits\n",
    "\n",
    "*Extra challenge*: check out the [documentation](https://docs.python.org/3/tutorial/datastructures.html?highlight=lists#more-on-lists) for lists and try out some other methods."
   ]
  },
  {
   "cell_type": "code",
   "execution_count": null,
   "metadata": {},
   "outputs": [],
   "source": [
    "# Exercise 1\n"
   ]
  },
  {
   "cell_type": "code",
   "execution_count": null,
   "metadata": {},
   "outputs": [],
   "source": [
    "# Exercise 2\n"
   ]
  },
  {
   "cell_type": "code",
   "execution_count": null,
   "metadata": {},
   "outputs": [],
   "source": [
    "# Exercise 3\n"
   ]
  },
  {
   "cell_type": "code",
   "execution_count": null,
   "metadata": {},
   "outputs": [],
   "source": [
    "# Exercise 4\n"
   ]
  },
  {
   "cell_type": "code",
   "execution_count": null,
   "metadata": {},
   "outputs": [],
   "source": [
    "# Exercise 5\n"
   ]
  },
  {
   "cell_type": "code",
   "execution_count": null,
   "metadata": {},
   "outputs": [],
   "source": [
    "# Exercise 6\n"
   ]
  },
  {
   "cell_type": "code",
   "execution_count": 1,
   "metadata": {},
   "outputs": [],
   "source": [
    "# Extra challenge \n"
   ]
  },
  {
   "cell_type": "markdown",
   "metadata": {},
   "source": [
    "### Tuples\n",
    "\n",
    "```python\n",
    "# Example\n",
    "\n",
    "```\n",
    "\n",
    "1. Assign the variable `workweek = (\"Monday\", \"Tuesday\", \"Wednesday\", \"Thursday\", \"Friday\")`\n",
    "2. Use the index position (square brackets) to print your favourite workday\n",
    "3. Use the index positions to print the last two days of the workweek\n",
    "4. Use the `.count()` method to find out how many times the letter `b` is in `(\"a\", \"b\", \"b\", \"a\", \"b\", \"a\", \"b\", \"b\")`\n",
    "5. *Trick question*: remove `\"Monday\"` from the workweek"
   ]
  },
  {
   "cell_type": "code",
   "execution_count": null,
   "metadata": {},
   "outputs": [],
   "source": [
    "# Exercise 1\n"
   ]
  },
  {
   "cell_type": "code",
   "execution_count": null,
   "metadata": {},
   "outputs": [],
   "source": [
    "# Exercise 2\n"
   ]
  },
  {
   "cell_type": "code",
   "execution_count": null,
   "metadata": {},
   "outputs": [],
   "source": [
    "# Exercise 3\n"
   ]
  },
  {
   "cell_type": "code",
   "execution_count": null,
   "metadata": {},
   "outputs": [],
   "source": [
    "# Exercise 4\n"
   ]
  },
  {
   "cell_type": "code",
   "execution_count": null,
   "metadata": {},
   "outputs": [],
   "source": [
    "# Exercise 5\n"
   ]
  },
  {
   "cell_type": "markdown",
   "metadata": {},
   "source": [
    "### Dictionaries\n",
    "\n",
    "```python\n",
    "# Example \n",
    "person = {\"name\": \"Alice\", \"age\": 42, \"email\": \"alice@wonderland.com\"}\n",
    "print(person.get(\"email\"))\n",
    "print(person[\"email\"])   # shortcut\n",
    "```\n",
    "\n",
    "1. Assign the variable `grades = {\"French\": 75, \"English\": 95, \"Math\": 100, \"Biology\": 80}`\n",
    "2. Use the `.get()` method to print the grade for `Biology`\n",
    "3. Get the grade for `Biology` again by using the shortcut (see example)\n",
    "4. Use the `.keys()` method to print all the keys (subjects) in the dictionary\n",
    "5. Use the `.values()` method to print all the values (grades) in the dictionary\n",
    "6. Use the `.items()` method to print a list of tuples of the subjects and their respective grades\n",
    "\n",
    "*Extra challenge 1*: add `\"Drama\"` to the dictionary with a grade of `85`\n",
    "\n",
    "*Extra challenge 2*: calculate the average grade"
   ]
  },
  {
   "cell_type": "code",
   "execution_count": null,
   "metadata": {},
   "outputs": [],
   "source": [
    "# Exercise 1\n"
   ]
  },
  {
   "cell_type": "code",
   "execution_count": null,
   "metadata": {},
   "outputs": [],
   "source": [
    "# Exercise 2\n"
   ]
  },
  {
   "cell_type": "code",
   "execution_count": null,
   "metadata": {},
   "outputs": [],
   "source": [
    "# Exercise 3\n"
   ]
  },
  {
   "cell_type": "code",
   "execution_count": null,
   "metadata": {},
   "outputs": [],
   "source": [
    "# Exercise 4\n"
   ]
  },
  {
   "cell_type": "code",
   "execution_count": null,
   "metadata": {},
   "outputs": [],
   "source": [
    "# Exercise 5\n"
   ]
  },
  {
   "cell_type": "code",
   "execution_count": null,
   "metadata": {},
   "outputs": [],
   "source": [
    "# Exercise 6\n"
   ]
  },
  {
   "cell_type": "code",
   "execution_count": null,
   "metadata": {},
   "outputs": [],
   "source": [
    "# Extra challenge 1\n"
   ]
  },
  {
   "cell_type": "code",
   "execution_count": null,
   "metadata": {},
   "outputs": [],
   "source": [
    "# Extra challenge 2 \n"
   ]
  },
  {
   "cell_type": "markdown",
   "metadata": {},
   "source": [
    "### Sets\n",
    "\n",
    "```python\n",
    "# Example\n",
    "characters = [\"a\", \"b\", \"b\", \"c\"]\n",
    "unique_chars = set(characters) \n",
    "print(unique_chars)\n",
    "```\n",
    "\n",
    "Exercise:\n",
    "1. Assign the variable `names = [\"Deborah\", \"John\", \"Tyler\", \"Linda\", \"Douglas\", \"Jessica\", \"Tyler\", \"John\", \"Danielle\", \"Jessica\"]`\n",
    "2. Create variable `unique_names` and assign it list of the names, but without duplicates. Print the result to the screen.\n",
    "3. How often does a name appear multiple times in the list? Use Python to find the answer.\n",
    "4. Use the `.add()` method to add your own name to the list with unique names\n",
    "\n",
    "*Extra challenge*: Which names are the most common? How often do they appear in the original list?"
   ]
  },
  {
   "cell_type": "code",
   "execution_count": null,
   "metadata": {},
   "outputs": [],
   "source": [
    "# Exercise 1\n"
   ]
  },
  {
   "cell_type": "code",
   "execution_count": null,
   "metadata": {},
   "outputs": [],
   "source": [
    "# Exercise 2\n"
   ]
  },
  {
   "cell_type": "code",
   "execution_count": null,
   "metadata": {},
   "outputs": [],
   "source": [
    "# Exercise 3\n"
   ]
  },
  {
   "cell_type": "code",
   "execution_count": null,
   "metadata": {},
   "outputs": [],
   "source": [
    "# Exercise 4\n"
   ]
  },
  {
   "cell_type": "code",
   "execution_count": null,
   "metadata": {},
   "outputs": [],
   "source": [
    "# Extra challenge\n"
   ]
  }
 ],
 "metadata": {
  "kernelspec": {
   "display_name": "Python 3 (ipykernel)",
   "language": "python",
   "name": "python3"
  },
  "language_info": {
   "codemirror_mode": {
    "name": "ipython",
    "version": 3
   },
   "file_extension": ".py",
   "mimetype": "text/x-python",
   "name": "python",
   "nbconvert_exporter": "python",
   "pygments_lexer": "ipython3",
   "version": "3.9.12"
  }
 },
 "nbformat": 4,
 "nbformat_minor": 4
}
