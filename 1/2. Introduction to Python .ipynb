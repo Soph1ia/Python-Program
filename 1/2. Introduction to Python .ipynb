{
 "cells": [
  {
   "cell_type": "markdown",
   "metadata": {},
   "source": [
    "# <b>Introduction to Python</b>\n",
    "Python is a high-level programming language used for web development, data analysis, artificial intelligence, and more. It's a great language to learn because it's easy to read, write, and understand.\n",
    "\n",
    "We will be using Jupyter notebooks in this tutorial, they allow us to write easily readable \"blocks\" of code!\n",
    "In this notebook, we'll cover the basics of Python, including:\n",
    "\n",
    "- Variables and data types <br>\n",
    "- Arithmetic operators<br>\n",
    "- Comparison operators<br>\n",
    "- Conditional statements<br>\n",
    "- Loops<br>\n",
    "- Functions<br>\n",
    "- Lists<br>\n",
    "- Dictionaries<br>\n",
    "- Modules<br>\n",
    "Let's get started!"
   ]
  },
  {
   "cell_type": "code",
   "execution_count": null,
   "metadata": {},
   "outputs": [],
   "source": [
    "# Lines of code that begin with # are comments. Python omits these lines during execution of code.\n",
    "# Hover over a block of code and click the run button located on the top left of the blovk to execute the code.\n",
    "# Code blocks that has been successfully executed are indicated by ✔️.\n",
    "# Code blocks that have not executed successfully show ❌ and the error must be corrected.\n"
   ]
  },
  {
   "cell_type": "markdown",
   "metadata": {},
   "source": [
    "## Variables and Data Types\n",
    "In Python, we use variables to store data. A variable is like a box where you can put data in and take data out. To create a variable, you need to give it a name and assign a value to it."
   ]
  },
  {
   "cell_type": "code",
   "execution_count": null,
   "metadata": {},
   "outputs": [],
   "source": [
    "# Creating a variable\n",
    "message = \"Hello, World!\"\n",
    "print(message)"
   ]
  },
  {
   "cell_type": "code",
   "execution_count": null,
   "metadata": {},
   "outputs": [],
   "source": [
    "# Try yourself!\n",
    "# Assign \"Hi HPE!\" to a variable and print it to the screen. (Just like above)\n"
   ]
  },
  {
   "cell_type": "markdown",
   "metadata": {},
   "source": [
    "In the above example, we created a variable named message and assigned a value of `\"Hello, World!\"` to it. We then used the `print()` function to display the value of the message variable."
   ]
  },
  {
   "cell_type": "markdown",
   "metadata": {},
   "source": [
    "### Python has several data types, including:<br>\n",
    "\n",
    "- `Strings`: Text enclosed in quotes, either single `(')` or double `(\")`. Example: `\"Hello, World!\"` <br>\n",
    "- `Integers`: Whole numbers without decimals. Example: 42<br>\n",
    "- `Floats`: Numbers with decimals. Example: 3.14<br>\n",
    "- `Booleans`: True or False values. Example: True<br>\n",
    "You can check the type of a variable using the `type()` function:<br>"
   ]
  },
  {
   "cell_type": "code",
   "execution_count": null,
   "metadata": {},
   "outputs": [],
   "source": [
    "# Checking variable types\n",
    "message = \"Hello, World!\"\n",
    "print(type(message))\n",
    "\n",
    "age = 42\n",
    "print(type(age))\n",
    "\n",
    "pi = 3.14\n",
    "print(type(pi))\n",
    "\n",
    "is_sunny = True\n",
    "print(type(is_sunny))"
   ]
  },
  {
   "cell_type": "code",
   "execution_count": null,
   "metadata": {},
   "outputs": [],
   "source": [
    "# Find the types of these variables and print them to the screen.\n",
    "msg = \"I'm having so much fun\"\n",
    "number = 5\n",
    "decimal_number = 5.9\n",
    "having_fun = True"
   ]
  },
  {
   "cell_type": "markdown",
   "metadata": {},
   "source": [
    "# Arithmetic Operators<br>\n",
    "Python has several arithmetic operators for performing mathematical operations:<br>\n",
    "\n",
    "Addition: `+`<br>\n",
    "Subtraction: `-`<br>\n",
    "Multiplication: `*`<br>\n",
    "Division: `/`<br>\n",
    "Exponentiation: `**`<br>\n",
    "Modulo: `%` (returns the remainder of division) <br>"
   ]
  },
  {
   "cell_type": "code",
   "execution_count": null,
   "metadata": {},
   "outputs": [],
   "source": [
    "# Arithmetic operators\n",
    "x = 10\n",
    "y = 3\n",
    "\n",
    "print(x + y)    # 13\n",
    "print(x - y)    # 7\n",
    "print(x * y)    # 30\n",
    "print(x / y)    # 3.3333333333333335\n",
    "print(x ** y)   # 1000\n",
    "print(x % y)    # 1"
   ]
  },
  {
   "cell_type": "code",
   "execution_count": null,
   "metadata": {},
   "outputs": [],
   "source": [
    "# Create 3 unique variables, use any combination of arithmetic operators to print the integer 30 to the screen.\n"
   ]
  },
  {
   "cell_type": "markdown",
   "metadata": {},
   "source": [
    "# Comparison Operators \n",
    "Python has several comparison operators for comparing values: <br>\n",
    "\n",
    "Equal to: `==`<br>\n",
    "Not equal to: `!=`<br>\n",
    "Greater than: `>`<br>\n",
    "Less than: `<`<br>\n",
    "Greater than or equal to: `>=`<br>\n",
    "Less than or equal to: `<=`<br>"
   ]
  },
  {
   "cell_type": "code",
   "execution_count": null,
   "metadata": {},
   "outputs": [],
   "source": [
    "# Comparison operators\n",
    "x = 10\n",
    "y = 3\n",
    "\n",
    "print(x == y)   # False\n",
    "print(x != y)   # True\n",
    "print(x > y)    # True\n",
    "print(x < y)    # False\n",
    "print(x >= y)   # True\n",
    "print(x <= y)   # False"
   ]
  },
  {
   "cell_type": "markdown",
   "metadata": {},
   "source": [
    "# Conditional Statements\n",
    "Conditional statements are used to execute different code based on different conditions.<br> In Python, we use `if`, `elif`(else if), and `else` statements to create conditional statements."
   ]
  },
  {
   "cell_type": "code",
   "execution_count": null,
   "metadata": {},
   "outputs": [],
   "source": [
    "# Conditional statements\n",
    "age = 16\n",
    "\n",
    "if age >= 18:\n",
    "    print(\"You can vote!\")\n",
    "else:\n",
    "    print(\"You can't vote\")"
   ]
  },
  {
   "cell_type": "code",
   "execution_count": null,
   "metadata": {},
   "outputs": [],
   "source": [
    "# Try yourself.\n",
    "current_year = 2023\n",
    "random_year = ___\n",
    "# Fill the variable \"random_year\".\n",
    "# Write a conditional statement that prints if the year is in the past or in the future"
   ]
  },
  {
   "cell_type": "markdown",
   "metadata": {},
   "source": [
    "# Data Types (Continued) <br>\n",
    "Python has several built-in data types, including: <br>\n",
    "\n",
    "( You have already seen these! ) <br>\n",
    "`Numbers` (integers, floating-point numbers)<br>\n",
    "`Strings`<br>\n",
    "`Booleans`<br><br>\n",
    "(These are new!) <br>\n",
    "`Lists`<br>\n",
    "`Sets`<br>\n",
    "`Dictionaries`<br>\n",
    "Let's look at each data type in more detail."
   ]
  },
  {
   "cell_type": "markdown",
   "metadata": {},
   "source": [
    "# Lists\n",
    "Lists in Python are ordered sequences of values enclosed in square brackets, separated by commas. For example:"
   ]
  },
  {
   "cell_type": "code",
   "execution_count": null,
   "metadata": {},
   "outputs": [],
   "source": [
    "my_list = [1, 2, 3, \"four\", 5.0]\n",
    "my_list"
   ]
  },
  {
   "cell_type": "code",
   "execution_count": null,
   "metadata": {},
   "outputs": [],
   "source": [
    "# Create a list of fruits and print it to the screen"
   ]
  },
  {
   "cell_type": "markdown",
   "metadata": {},
   "source": [
    "You can perform various operations on lists, like indexing `(my_list[0])`<br> slicing `(my_list[1:3])`<br> appending `(my_list.append(6))` <br> and many more."
   ]
  },
  {
   "cell_type": "code",
   "execution_count": null,
   "metadata": {},
   "outputs": [],
   "source": [
    "# Try some of the above functions on the list you have created.\n",
    "# For example, print the 2nd item in the list."
   ]
  },
  {
   "cell_type": "markdown",
   "metadata": {},
   "source": [
    "# Sets\n",
    "Sets in Python are unordered collections of unique values enclosed in curly braces, separated by commas. For example:"
   ]
  },
  {
   "cell_type": "code",
   "execution_count": null,
   "metadata": {},
   "outputs": [],
   "source": [
    "my_set = {1, 2, 3, \"four\", 5.0}"
   ]
  },
  {
   "cell_type": "markdown",
   "metadata": {},
   "source": [
    "# Dictionaries\n",
    "Dictionaries in Python are unordered collections of key-value pairs enclosed in curly braces, separated by commas. For example:"
   ]
  },
  {
   "cell_type": "code",
   "execution_count": null,
   "metadata": {},
   "outputs": [],
   "source": [
    "my_dict = {\"name\": \"John\", \"age\": 30, \"city\": \"New York\"}"
   ]
  },
  {
   "cell_type": "markdown",
   "metadata": {},
   "source": [
    "You can perform various operations on dictionaries, like accessing values by key `(my_dict[\"name\"])`, adding new key-value pairs `(my_dict[\"gender\"] = \"male\")`, and many more."
   ]
  },
  {
   "cell_type": "code",
   "execution_count": null,
   "metadata": {},
   "outputs": [],
   "source": [
    "# Add an animal to the list and its fur colour. Then print the dictionary to the screen."
   ]
  },
  {
   "cell_type": "markdown",
   "metadata": {},
   "source": [
    "# Control Structures\n",
    "Python has several control structures that allow you to control the flow of your program. These include:\n",
    "\n",
    "`'if'` statements <br>\n",
    "`'for'` loops<br>\n",
    "`'while'` loops<br>\n",
    "Let's look at each control structure in more detail.\n",
    "<br>\n",
    "`'if'` statements<br>\n",
    "`'if'` statements allow you to execute a block of code if a condition is true. For example:<br>"
   ]
  },
  {
   "cell_type": "code",
   "execution_count": null,
   "metadata": {},
   "outputs": [],
   "source": [
    "x = 5\n",
    "if x > 0:\n",
    "    print(\"x is positive\")"
   ]
  },
  {
   "cell_type": "markdown",
   "metadata": {},
   "source": [
    "You can also use else to execute a block of code `if` the condition is false, and `elif` *(else if)* to check additional conditions. For example:"
   ]
  },
  {
   "cell_type": "code",
   "execution_count": null,
   "metadata": {},
   "outputs": [],
   "source": [
    "x = 0\n",
    "if x > 0:\n",
    "    print(\"x is positive\")\n",
    "elif x < 0:\n",
    "    print(\"x is negative\")\n",
    "else:\n",
    "    print(\"x is zero\")"
   ]
  },
  {
   "cell_type": "markdown",
   "metadata": {},
   "source": [
    "`for` loops allow you to iterate over a sequence of values. For example:"
   ]
  },
  {
   "cell_type": "code",
   "execution_count": null,
   "metadata": {},
   "outputs": [],
   "source": [
    "for i in range(5):\n",
    "    print(i)"
   ]
  },
  {
   "cell_type": "markdown",
   "metadata": {},
   "source": [
    "This will print the numbers 0 to 4."
   ]
  },
  {
   "cell_type": "markdown",
   "metadata": {},
   "source": [
    "You can also iterate over a list, tuple, or other sequence:"
   ]
  },
  {
   "cell_type": "code",
   "execution_count": null,
   "metadata": {},
   "outputs": [],
   "source": [
    "fruits = [\"apple\", \"banana\", \"cherry\"]\n",
    "for fruit in fruits:\n",
    "    print(fruit)"
   ]
  },
  {
   "cell_type": "markdown",
   "metadata": {},
   "source": [
    "`while loops` <br>\n",
    "`while loops` allow you to execute a block of code repeatedly while a condition is `true`. For example:"
   ]
  },
  {
   "cell_type": "code",
   "execution_count": null,
   "metadata": {},
   "outputs": [],
   "source": [
    "i = 0\n",
    "while i < 5:\n",
    "    print(i)\n",
    "    i += 1"
   ]
  },
  {
   "cell_type": "markdown",
   "metadata": {},
   "source": [
    "This will print the numbers 0 to 4."
   ]
  },
  {
   "cell_type": "code",
   "execution_count": null,
   "metadata": {},
   "outputs": [],
   "source": [
    "#Using a while loop print numbers from 0 to -5"
   ]
  },
  {
   "cell_type": "markdown",
   "metadata": {},
   "source": [
    "# Functions\n",
    "Functions are blocks of code that perform a specific task. They can take inputs (arguments) and return outputs. For example:"
   ]
  },
  {
   "cell_type": "code",
   "execution_count": null,
   "metadata": {},
   "outputs": [],
   "source": [
    "def add_numbers(x, y):\n",
    "    return x + y"
   ]
  },
  {
   "cell_type": "code",
   "execution_count": null,
   "metadata": {},
   "outputs": [],
   "source": [
    "#write a function that gets the product of 3 numbers."
   ]
  },
  {
   "cell_type": "markdown",
   "metadata": {},
   "source": [
    "This function takes two arguments (x and y) and returns their sum.\n",
    "\n",
    "You can call the function with different values for the arguments:"
   ]
  },
  {
   "cell_type": "code",
   "execution_count": null,
   "metadata": {},
   "outputs": [],
   "source": [
    "result = add_numbers(2, 3)\n",
    "print(result)"
   ]
  },
  {
   "cell_type": "code",
   "execution_count": null,
   "metadata": {},
   "outputs": [],
   "source": [
    "#Call the function you have created and print the product to the screen."
   ]
  },
  {
   "cell_type": "markdown",
   "metadata": {},
   "source": [
    "# Modules\n",
    "Modules in Python are files that contain Python code. You can import modules into your code to use their functionality. For example:"
   ]
  },
  {
   "cell_type": "code",
   "execution_count": null,
   "metadata": {},
   "outputs": [],
   "source": [
    "import math\n",
    "\n",
    "x = math.sqrt(16)\n",
    "print(x)"
   ]
  },
  {
   "cell_type": "markdown",
   "metadata": {},
   "source": [
    "This will print 4.0, which is the square root of 16."
   ]
  },
  {
   "cell_type": "markdown",
   "metadata": {},
   "source": [
    "# Conclusion\n",
    "Congratulations! You have completed the introduction to Python tutorial. <br>You have learned the basics of Python, including variables, data types, control structures, functions, and modules.<br> You can now start exploring Python further by working on more advanced projects and learning more advanced topics, like object-oriented programming, file I/O, machine learning and web development."
   ]
  }
 ],
 "metadata": {
  "kernelspec": {
   "display_name": "Python 3 (ipykernel)",
   "language": "python",
   "name": "python3"
  },
  "language_info": {
   "codemirror_mode": {
    "name": "ipython",
    "version": 3
   },
   "file_extension": ".py",
   "mimetype": "text/x-python",
   "name": "python",
   "nbconvert_exporter": "python",
   "pygments_lexer": "ipython3",
   "version": "3.9.12"
  }
 },
 "nbformat": 4,
 "nbformat_minor": 2
}
