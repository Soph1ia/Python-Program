{
 "cells": [
  {
   "cell_type": "markdown",
   "id": "e7cf17e4",
   "metadata": {},
   "source": [
    "# Mini Project \n",
    "## Guess The Number \n",
    "Now that you have the basic of Python down. Let's tackle a small project. \n",
    "\n",
    "In this project, you'll write a Python program that generates a random number between 1 and 100 and asks the user to guess the number. The program will provide feedback on whether the user's guess is too high or too low, and will continue to prompt the user until they guess the correct number."
   ]
  },
  {
   "cell_type": "markdown",
   "id": "2dfb9f36",
   "metadata": {},
   "source": [
    "# Pre-Requistes \n",
    "- Complete Chapter 1 on basics \n",
    "- Learn How To Import Packages \n"
   ]
  },
  {
   "cell_type": "markdown",
   "id": "3ce83811",
   "metadata": {},
   "source": [
    "# Try it Yourself \n",
    "1) Generate a random number between 1 and 100 using the random module. \n",
    "\n",
    "2) Prompt the user to enter a number between 1 and 100.\n",
    "\n",
    "3) Convert the user's input to an integer using the int() function.\n",
    "\n",
    "4) Compare the user's guess to the generated number. If the guess is too high, print \"Too high\" and prompt the user to guess again. If the guess is too low, print \"Too low\" and prompt the user to guess again. If the guess is correct, print \"Congratulations!\" and end the program.\n",
    "\n",
    "5) Repeat steps 2-4 until the user guesses the correct number.\n"
   ]
  },
  {
   "cell_type": "code",
   "execution_count": 1,
   "id": "97dcd143",
   "metadata": {},
   "outputs": [],
   "source": [
    "# First Import The Correct Package \n",
    "\n",
    "# Generate a random number between 1 and 100 \n",
    "\n",
    "# Start an infinite loop \n",
    "\n",
    "# Prompt the user to guess the number\n",
    "\n",
    "# Compare the user's guess to the generate number \n",
    "\n"
   ]
  },
  {
   "cell_type": "markdown",
   "id": "4dfb5305",
   "metadata": {},
   "source": [
    "# Solution "
   ]
  },
  {
   "cell_type": "code",
   "execution_count": null,
   "id": "a9eea480",
   "metadata": {},
   "outputs": [],
   "source": [
    "import random\n",
    "\n",
    "# Generate a random number between 1 and 100\n",
    "number = random.randint(1, 100)\n",
    "\n",
    "# Prompt the user to guess the number\n",
    "while True:\n",
    "    guess = input(\"Guess a number between 1 and 100: \")\n",
    "    guess = int(guess)\n",
    "    # Compare the user's guess to the generated number\n",
    "    if guess < number:\n",
    "        print(\"Too low\")\n",
    "    elif guess > number:\n",
    "        print(\"Too high\")\n",
    "    else:\n",
    "        print(\"Congratulations!\")\n",
    "break"
   ]
  },
  {
   "cell_type": "markdown",
   "id": "ce022d52",
   "metadata": {},
   "source": [
    "## Challenge \n",
    "\n",
    "Once you've completed the basic project, try adding some additional features to make it more challenging:\n",
    "\n",
    "1) Add a limit to the number of guesses the user can make. <br>\n",
    "2) Keep track of the number of guesses the user has made and provide feedback on their performance. <br>\n",
    "3) Allow the user to choose the range of the generated number (e.g. 1-50, 1-1000, etc.). <br>\n",
    "4) Add a scoring system based on the number of guesses it takes the user to guess the correct number. <br>\n",
    " "
   ]
  }
 ],
 "metadata": {
  "kernelspec": {
   "display_name": "Python 3 (ipykernel)",
   "language": "python",
   "name": "python3"
  },
  "language_info": {
   "codemirror_mode": {
    "name": "ipython",
    "version": 3
   },
   "file_extension": ".py",
   "mimetype": "text/x-python",
   "name": "python",
   "nbconvert_exporter": "python",
   "pygments_lexer": "ipython3",
   "version": "3.9.12"
  }
 },
 "nbformat": 4,
 "nbformat_minor": 5
}
