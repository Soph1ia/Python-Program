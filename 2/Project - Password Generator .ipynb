{
 "cells": [
  {
   "cell_type": "markdown",
   "id": "9380b388",
   "metadata": {},
   "source": [
    "# Project : Password Generator \n",
    "In this project, we will create a simple password generator program that can generate random passwords of a specified length. The program will ask the user for the length of the password and then generate a random string of characters of that length.\n",
    "\n",
    "## Step One: Import the necessary modules\n",
    "\n",
    "The first step is to import the **random** module, which we will use to generate random characters for the password."
   ]
  },
  {
   "cell_type": "code",
   "execution_count": null,
   "id": "858c431f",
   "metadata": {},
   "outputs": [],
   "source": [
    "import _______"
   ]
  },
  {
   "cell_type": "markdown",
   "id": "709b2da4",
   "metadata": {},
   "source": [
    "## Step Two :  Define the main function\n",
    "\n",
    "The next step is to define the main function that will contain the program logic. Let's call this function generate_password. The function will prompt the user for the length of the password, generate a random string of characters of that length, and then display the password. "
   ]
  },
  {
   "cell_type": "code",
   "execution_count": null,
   "id": "5c201266",
   "metadata": {},
   "outputs": [],
   "source": [
    "def generate_password():\n",
    "    # Prompt the user for the length of the password\n",
    "\n",
    "\n",
    "    # Define the characters to use for the password\n",
    "\n",
    "\n",
    "    # Generate a random string of characters of the specified length\n",
    "\n",
    "\n",
    "    # Display the password\n",
    "\n"
   ]
  },
  {
   "cell_type": "markdown",
   "id": "1ae73dce",
   "metadata": {},
   "source": [
    "## Step Three : Call The Main Function \n",
    "Now that we've defined the generate_password function, we need to call it to generate a password. We can do this by running the following line at the bottom of our code:"
   ]
  },
  {
   "cell_type": "code",
   "execution_count": null,
   "id": "37137122",
   "metadata": {},
   "outputs": [],
   "source": [
    "generate_password()"
   ]
  },
  {
   "cell_type": "markdown",
   "id": "f806ed1f",
   "metadata": {},
   "source": [
    "## Step Four : Test The Program \n",
    "That's it! We've completed our password generator program. To test it out, simply run the program and enter the length of the password when prompted. The program will then generate a random string of characters of that length and display the password.\n",
    "\n",
    "### Here's An Example of how to use the password generator : \n",
    "```` \n",
    "Enter the length of the password: 10\n",
    "Your password is: k6U9`xU{Sg\n",
    "````"
   ]
  }
 ],
 "metadata": {
  "kernelspec": {
   "display_name": "Python 3 (ipykernel)",
   "language": "python",
   "name": "python3"
  },
  "language_info": {
   "codemirror_mode": {
    "name": "ipython",
    "version": 3
   },
   "file_extension": ".py",
   "mimetype": "text/x-python",
   "name": "python",
   "nbconvert_exporter": "python",
   "pygments_lexer": "ipython3",
   "version": "3.9.12"
  }
 },
 "nbformat": 4,
 "nbformat_minor": 5
}
