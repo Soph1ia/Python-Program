{
 "cells": [
  {
   "cell_type": "markdown",
   "id": "91fd4cbf",
   "metadata": {},
   "source": [
    "# Packages - What Are They? \n",
    "\n",
    "Python is a versatile and popular programming language that allows for the use of third-party packages and modules to extend its functionality. In this tutorial, we will provide a step-by-step guide on how to import packages in Python.\n",
    "\n",
    "\n",
    "## 1. Understand Python Packages \n",
    "\n",
    "A package in Python is a directory containing Python modules. A module is simply a file containing Python definitions and statements. Packages are used to organize related modules together, making them easier to manage and use.\n",
    "\n",
    "## 2. Finding Packages \n",
    "\n",
    "Before we can import a package, we need to know where to find it. Python has a built-in package manager called pip that allows you to install packages from the PyPI repository. You can also download packages manually from their respective websites.\n",
    "\n",
    "## 3. Installing Packages \n",
    "\n",
    "To install a package using pip, open a command prompt and type the following command:\n",
    "\n",
    "> pip install package-name\n",
    "\n",
    "#### Install a Package : Numpy \n",
    "Let's try to install a sample package. \n",
    "\n",
    "\n",
    "- NumPy is a Python package for scientific computing that provides a powerful array object and a large library of mathematical functions for working with arrays. NumPy is short for \"Numerical Python\".\n",
    "\n",
    "- The NumPy package also provides a wide range of mathematical functions that can be used to perform operations on arrays, such as linear algebra, Fourier transforms, and random number generation. These functions are often faster and more efficient than their Python equivalents because they are implemented in C or Fortran and optimized for numerical operations. "
   ]
  },
  {
   "cell_type": "code",
   "execution_count": null,
   "id": "e1162883",
   "metadata": {},
   "outputs": [],
   "source": [
    "\"\"\"\n",
    "Run This Code Block \n",
    "\n",
    "\"\"\"\n",
    "\n",
    "!pip install numpy "
   ]
  },
  {
   "cell_type": "markdown",
   "id": "3a19072d",
   "metadata": {},
   "source": [
    "## Import Packages \n",
    "Once you have installed a package, you can import it in your Python code using the import statement. For example, to import the popular NumPy package, you would write: \n",
    "\n",
    "> import numpy \n",
    "\n",
    "This statement imports the entire NumPy package and makes its functions and classes available for use in your code\n",
    "\n",
    "_Try It Yourself Below_ "
   ]
  },
  {
   "cell_type": "code",
   "execution_count": null,
   "id": "c943e1ec",
   "metadata": {},
   "outputs": [],
   "source": [
    "\"\"\"\n",
    "- Install the following package : random\n",
    "\"\"\"\n",
    "\n",
    "!pip install ____"
   ]
  },
  {
   "cell_type": "code",
   "execution_count": null,
   "id": "b20af9e8",
   "metadata": {},
   "outputs": [],
   "source": [
    "\"\"\"\n",
    "- Import the package in the code below \n",
    "\n",
    "\"\"\"\n",
    "\n",
    "import _____"
   ]
  },
  {
   "cell_type": "markdown",
   "id": "62c288e1",
   "metadata": {},
   "source": [
    "### Importing Specific Functions or Classes \n",
    "If you only need to use specific functions or classes from a package, you can import them directly using the from statement. For example, to import only the sqrt function from the math package, you would write:\n",
    "\n",
    "> from math import sqrt \n",
    "\n",
    "_Try It Yourself Below_  "
   ]
  },
  {
   "cell_type": "code",
   "execution_count": null,
   "id": "9f968193",
   "metadata": {},
   "outputs": [],
   "source": [
    "\"\"\"\n",
    "Numpy Package has a function called around. Import it in the code below \n",
    "\n",
    "\"\"\"\n",
    "\n",
    "from _____ import ______"
   ]
  },
  {
   "cell_type": "markdown",
   "id": "a7874dfc",
   "metadata": {},
   "source": [
    "### Renaming Packages or Functions \n",
    "You can also rename packages or functions to make them easier to reference in your code. To rename a package or function, use the as keyword followed by the new name you want to use. For example, to import the numpy package and rename it to np, you would write:\n",
    "\n",
    "> import numpy as np \n",
    "\n",
    "_Try it Yourself Below_ "
   ]
  },
  {
   "cell_type": "code",
   "execution_count": null,
   "id": "3336d59e",
   "metadata": {},
   "outputs": [],
   "source": [
    "\"\"\"\n",
    "Import The Random Package and rename is as ra\n",
    "\n",
    "\"\"\"\n",
    "\n",
    "import ____ as ____"
   ]
  },
  {
   "cell_type": "markdown",
   "id": "c7497608",
   "metadata": {},
   "source": [
    "# Conclusion \n",
    "Importing packages is an essential part of working with Python. Understanding how to find, install, and import packages can greatly extend your programming capabilities and help you write more efficient and effective code."
   ]
  }
 ],
 "metadata": {
  "kernelspec": {
   "display_name": "Python 3 (ipykernel)",
   "language": "python",
   "name": "python3"
  },
  "language_info": {
   "codemirror_mode": {
    "name": "ipython",
    "version": 3
   },
   "file_extension": ".py",
   "mimetype": "text/x-python",
   "name": "python",
   "nbconvert_exporter": "python",
   "pygments_lexer": "ipython3",
   "version": "3.9.12"
  }
 },
 "nbformat": 4,
 "nbformat_minor": 5
}
