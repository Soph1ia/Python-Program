{
 "cells": [
  {
   "cell_type": "markdown",
   "metadata": {},
   "source": [
    "### Built-in Functions\n",
    "\n",
    "\n",
    "```python\n",
    "# Example\n",
    "fruits = [\"apple\", \"kiwi\",\"orange\", \"banana\"]\n",
    "print(len(fruits))\n",
    "```\n",
    "\n",
    "Exercise:\n",
    "1. Assing the variable `numbers = [26473.014, -13474, -3669.4, 178934, 94371]`\n",
    "2. Use the `min()` function to print the lowest number\n",
    "3. Use the `max()` function to print the highest number\n",
    "4. Use the `sum()` function the print the sum of all the numbers\n",
    "\n",
    "*Extra challenge*: create a new list called `numbers_rounded` with the all the values from `numbers` rounded. You can use the `round()` function. The ouput of printing the list should be `[26473, -13474, -3669, 178934, 94371]`"
   ]
  },
  {
   "cell_type": "code",
   "execution_count": null,
   "metadata": {},
   "outputs": [],
   "source": [
    "# Exercise 1\n"
   ]
  },
  {
   "cell_type": "code",
   "execution_count": null,
   "metadata": {},
   "outputs": [],
   "source": [
    "# Exercise 2\n"
   ]
  },
  {
   "cell_type": "code",
   "execution_count": null,
   "metadata": {},
   "outputs": [],
   "source": [
    "# Exercise 3\n"
   ]
  },
  {
   "cell_type": "code",
   "execution_count": null,
   "metadata": {},
   "outputs": [],
   "source": [
    "# Exercise 4\n"
   ]
  },
  {
   "cell_type": "code",
   "execution_count": null,
   "metadata": {},
   "outputs": [],
   "source": [
    "# Extra challenge\n",
    "\n"
   ]
  },
  {
   "cell_type": "markdown",
   "metadata": {},
   "source": [
    "### User Defined Functions 1\n",
    "\n",
    "```python\n",
    "# Example\n",
    "def convert_eur_to_usd(amount):\n",
    "    usd = amount * 1.18\n",
    "    return usd\n",
    "\n",
    "# Example\n",
    "round(3.14159265359, 4) # prints 3.1415 \n",
    "```\n",
    "\n",
    "Exercise:\n",
    "1. Create a function `convert_usd_to_eur` that converts an amount in USD to EUR\n",
    "2. Use your function to calculate how much `$150` is in euros\n",
    "3. Recreate the function to round the output of the function with two decimals\n",
    "4. How much is `$150` in Euro's, rounded to the cent?\n",
    "\n",
    "*Extra challenge*: instead of returning a numerical value, let the function return a string with the euro sign. So `print(convert_usd_to_eur(150))` should return `€127.12`"
   ]
  },
  {
   "cell_type": "code",
   "execution_count": null,
   "metadata": {},
   "outputs": [],
   "source": [
    "# Exercise 1\n"
   ]
  },
  {
   "cell_type": "code",
   "execution_count": null,
   "metadata": {},
   "outputs": [],
   "source": [
    "# Exercise 2\n"
   ]
  },
  {
   "cell_type": "code",
   "execution_count": null,
   "metadata": {},
   "outputs": [],
   "source": [
    "# Exercise 3\n"
   ]
  },
  {
   "cell_type": "code",
   "execution_count": null,
   "metadata": {},
   "outputs": [],
   "source": [
    "# Exercise 4\n"
   ]
  },
  {
   "cell_type": "code",
   "execution_count": null,
   "metadata": {},
   "outputs": [],
   "source": [
    "# Extra challenge\n"
   ]
  },
  {
   "cell_type": "markdown",
   "metadata": {},
   "source": [
    "### User Defined Functions 2\n",
    "\n",
    "```python\n",
    "# Example\n",
    "def add(x, y=None):\n",
    "    return x + y\n",
    "\n",
    "print(add(4, 5))  # prints 9\n",
    "```\n",
    "\n",
    "Exercise:\n",
    "1. Create a function `multiply` which takes `x` and `y` as inputs. The function should return `x` and `y` multiplied. \n",
    "2. Call the function with `multiply(4, 5)`. It should return `20`.\n",
    "3. Sometimes a user might not know the value of `y`. Give `y` a default value of `1`.\n",
    "4. Call the function with `multiply(4)`. It should return `4` (instead of an error).\n",
    "\n",
    "\n",
    "*Extra challenge*: entering more are arguments, like `multiply(4, 5, 6, 7)` will result in an error. Search the internet for a solution. Can you change the function so that it can deal with an unknown amount of arguments?"
   ]
  },
  {
   "cell_type": "code",
   "execution_count": null,
   "metadata": {},
   "outputs": [],
   "source": [
    "# Exercise 1\n"
   ]
  },
  {
   "cell_type": "code",
   "execution_count": null,
   "metadata": {},
   "outputs": [],
   "source": [
    "# Exercise 2\n"
   ]
  },
  {
   "cell_type": "code",
   "execution_count": null,
   "metadata": {},
   "outputs": [],
   "source": [
    "# Exercise 3\n"
   ]
  },
  {
   "cell_type": "code",
   "execution_count": null,
   "metadata": {},
   "outputs": [],
   "source": [
    "# Exercise 4\n"
   ]
  },
  {
   "cell_type": "code",
   "execution_count": null,
   "metadata": {},
   "outputs": [],
   "source": [
    "# Extra challenge\n"
   ]
  },
  {
   "cell_type": "markdown",
   "metadata": {},
   "source": [
    "### Modules\n",
    "\n",
    "```python\n",
    "# Example\n",
    "import statistics\n",
    "numbers = [1, 2, 3, 4, 5, 6]\n",
    "statistics.mean(numbers)    # prints 3.5\n",
    "```\n",
    "Exercise:\n",
    "1. Import the built-in [math](https://docs.python.org/3/library/math.html#module-math) module and take a look at the documentation\n",
    "2. Print the square root of `21000`\n",
    "3. Use the `math` module to print the value of `pi`. Hint: see documentation, this is not a function, but a constant. So you dont need to call it with parentheses `()`.\n",
    "\n",
    "*Extra challenge*: use the built-in [collections](https://docs.python.org/3/library/collections.html#collections.Counter) module (hint: `from collections import Counter`) to find out which __two__ letters occurs the most often in the word `antidisestablishmentarianism`"
   ]
  },
  {
   "cell_type": "code",
   "execution_count": null,
   "metadata": {},
   "outputs": [],
   "source": [
    "# Exercise 1\n"
   ]
  },
  {
   "cell_type": "code",
   "execution_count": null,
   "metadata": {},
   "outputs": [],
   "source": [
    "# Exercise 2\n"
   ]
  },
  {
   "cell_type": "code",
   "execution_count": null,
   "metadata": {},
   "outputs": [],
   "source": [
    "# Exercise 3\n"
   ]
  },
  {
   "cell_type": "code",
   "execution_count": null,
   "metadata": {},
   "outputs": [],
   "source": [
    "# Extra challenge\n"
   ]
  },
  {
   "cell_type": "markdown",
   "metadata": {},
   "source": [
    "### API Calls\n",
    "\n",
    "```python\n",
    "# Example\n",
    "import requests\n",
    "url = \"https://api.spacexdata.com/v4/launches/upcoming\"\n",
    "r = requests.get(url).json()\n",
    "r\n",
    "```\n",
    "\n",
    "Exercise:\n",
    "1. Pick your favourite API from the list below\n",
    "2. Take a look at the documentation. Look for the URL where you can get the data.\n",
    "3. Make an API call (similar to the example above)\n",
    "4. Inpsect the results in `r`\n",
    "5. *Optional*: to print only information you are interested in. You can use the `.keys()` and `.values()` methods to inspect a `dictionary`. If you retrieved a `list` of dictionaries, you could loop through the results.\n",
    "6. Do the same exercise for another API in the list\n",
    "\n",
    "List of public APIs:\n",
    "\n",
    "| Name               | URL                                    |\n",
    "|:-------------------|:---------------------------------------|\n",
    "| Exchange Rates API | https://exchangeratesapi.io            |\n",
    "| Open Brewery DB    | https://www.openbrewerydb.org          |\n",
    "| Open Library API   | https://openlibrary.org/developers/api |\n",
    "| Pokemon API        | https://pokeapi.co                     |\n",
    "| SpaceX API         | https://github.com/r-spacex/SpaceX-API |\n",
    "| Star Wars API      | https://swapi.dev                      |\n",
    "| Weather API        | https://www.metaweather.com/api/       |\n",
    "\n",
    "\n",
    "\n",
    "*Extra challenge*: Many online tools offer REST API access to their product. For example, [HubSpot](https://developers.hubspot.com/docs/api/overview), [Dropbox](https://github.com/dropbox/dropbox-sdk-python), [Trello](https://developer.atlassian.com/cloud/trello/guides/rest-api/api-introduction/) and many others. Search the internet for APIs of the tools you are using. Most often, you will need to authenticate with an API key. Explore the APIs documentation for the authentication process. Can you retrieve your data from these tools?"
   ]
  },
  {
   "cell_type": "code",
   "execution_count": null,
   "metadata": {},
   "outputs": [],
   "source": [
    "# Exercise\n",
    "\n",
    "\n",
    "\n"
   ]
  },
  {
   "cell_type": "code",
   "execution_count": null,
   "metadata": {},
   "outputs": [],
   "source": []
  },
  {
   "cell_type": "code",
   "execution_count": null,
   "metadata": {},
   "outputs": [],
   "source": []
  },
  {
   "cell_type": "code",
   "execution_count": null,
   "metadata": {},
   "outputs": [],
   "source": []
  },
  {
   "cell_type": "code",
   "execution_count": null,
   "metadata": {},
   "outputs": [],
   "source": []
  }
 ],
 "metadata": {
  "kernelspec": {
   "display_name": "Python 3 (ipykernel)",
   "language": "python",
   "name": "python3"
  },
  "language_info": {
   "codemirror_mode": {
    "name": "ipython",
    "version": 3
   },
   "file_extension": ".py",
   "mimetype": "text/x-python",
   "name": "python",
   "nbconvert_exporter": "python",
   "pygments_lexer": "ipython3",
   "version": "3.9.12"
  }
 },
 "nbformat": 4,
 "nbformat_minor": 4
}
