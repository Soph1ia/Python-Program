{
 "cells": [
  {
   "cell_type": "markdown",
   "metadata": {},
   "source": [
    "### Calculate\n",
    "\n",
    "Use the cells below to make the following calculations:\n",
    "\n",
    "1. 20 plus 30 (the code is given, just run the cell)\n",
    "2. 20 minus 30\n",
    "3. 20 times 30\n",
    "4. 20 divided by 30\n",
    "5. 20 to the power 30 (*hint*: use two asterisks: `**`)"
   ]
  },
  {
   "cell_type": "code",
   "execution_count": null,
   "metadata": {},
   "outputs": [],
   "source": [
    "# Exercise 1\n",
    "20 + 30"
   ]
  },
  {
   "cell_type": "code",
   "execution_count": null,
   "metadata": {},
   "outputs": [],
   "source": [
    "# Exercise 2\n"
   ]
  },
  {
   "cell_type": "code",
   "execution_count": null,
   "metadata": {},
   "outputs": [],
   "source": [
    "# Exercise 3\n"
   ]
  },
  {
   "cell_type": "code",
   "execution_count": null,
   "metadata": {},
   "outputs": [],
   "source": [
    "# Exercise 4\n"
   ]
  },
  {
   "cell_type": "code",
   "execution_count": null,
   "metadata": {},
   "outputs": [],
   "source": [
    "# Exercise 5\n"
   ]
  },
  {
   "cell_type": "markdown",
   "metadata": {},
   "source": [
    "### Variables\n",
    "\n",
    "\n",
    "1. Create a variable `a` and assign the value `20`, so `a = 20`\n",
    "2. Create a variable `b` and assign the value `30`\n",
    "3. Add `a` and `b`, the outcome should be 50\n",
    "4. Multiply `a` by `b`, the outcome should be 600\n",
    "\n",
    "*Extra challenge*: can you calculate the value of `c` in $a^{2}$ + $b^{2}$ = $c^{2}$? (Pythagorean Theorem)"
   ]
  },
  {
   "cell_type": "code",
   "execution_count": null,
   "metadata": {},
   "outputs": [],
   "source": [
    "# Exercise 1\n"
   ]
  },
  {
   "cell_type": "code",
   "execution_count": null,
   "metadata": {},
   "outputs": [],
   "source": [
    "# Exercise 2\n"
   ]
  },
  {
   "cell_type": "code",
   "execution_count": null,
   "metadata": {},
   "outputs": [],
   "source": [
    "# Exercise 3\n"
   ]
  },
  {
   "cell_type": "code",
   "execution_count": null,
   "metadata": {},
   "outputs": [],
   "source": [
    "# Exercise 4\n"
   ]
  },
  {
   "cell_type": "code",
   "execution_count": null,
   "metadata": {},
   "outputs": [],
   "source": [
    "# Extra challenge\n"
   ]
  },
  {
   "cell_type": "markdown",
   "metadata": {},
   "source": [
    "### Printing\n",
    "\n",
    "```python\n",
    "# Example\n",
    "city = \"Amsterdam\"\n",
    "country = \"The Netherlands\"\n",
    "print(city, country)\n",
    "print(city, country, sep=\",\")\n",
    "```\n",
    "\n",
    "The exercise:\n",
    "\n",
    "1. Assign your first name to a variable called `first_name`\n",
    "2. Assign your last name to a variable called `last_name`\n",
    "3. Print your first and last name to the screen with the `print` function\n",
    "3. Again print your first and last name to the screen, but this time separated by a dot (`.`) instead of a space (` `)"
   ]
  },
  {
   "cell_type": "code",
   "execution_count": null,
   "metadata": {},
   "outputs": [],
   "source": [
    "# Exercise 1\n"
   ]
  },
  {
   "cell_type": "code",
   "execution_count": null,
   "metadata": {},
   "outputs": [],
   "source": [
    "# Exercise 2\n"
   ]
  },
  {
   "cell_type": "code",
   "execution_count": null,
   "metadata": {},
   "outputs": [],
   "source": [
    "# Exercise 3\n"
   ]
  },
  {
   "cell_type": "code",
   "execution_count": null,
   "metadata": {},
   "outputs": [],
   "source": [
    "# Exercise 4\n"
   ]
  },
  {
   "cell_type": "markdown",
   "metadata": {},
   "source": [
    "### Datatypes\n",
    "\n",
    "1. Without using the computer, write down on a piece of paper what you think the `type` is for every letter (`a` to `i`) \n",
    "2. Assign the values by running the cell below\n",
    "3. Use the `type()` function to check your answers. For example, to check the first one use `type(a)`"
   ]
  },
  {
   "cell_type": "code",
   "execution_count": null,
   "metadata": {},
   "outputs": [],
   "source": [
    "# Exercise 2 - Run this cell\n",
    "a = 42 \n",
    "b = \"hello world\"\n",
    "c = 3.14\n",
    "d = 100\n",
    "e = \"23\"\n",
    "f = 10 * 10\n",
    "g = 10 / 10\n",
    "h = [1, 2, 3]\n",
    "i = {\"name\": \"John\", \"age\": 42, \"role\": \"developer\"}"
   ]
  },
  {
   "cell_type": "code",
   "execution_count": null,
   "metadata": {},
   "outputs": [],
   "source": [
    "# a\n",
    "type(a)"
   ]
  },
  {
   "cell_type": "code",
   "execution_count": null,
   "metadata": {},
   "outputs": [],
   "source": [
    "# b\n"
   ]
  },
  {
   "cell_type": "code",
   "execution_count": null,
   "metadata": {},
   "outputs": [],
   "source": [
    "# c\n"
   ]
  },
  {
   "cell_type": "code",
   "execution_count": null,
   "metadata": {},
   "outputs": [],
   "source": [
    "# d\n"
   ]
  },
  {
   "cell_type": "code",
   "execution_count": null,
   "metadata": {},
   "outputs": [],
   "source": [
    "# e\n"
   ]
  },
  {
   "cell_type": "code",
   "execution_count": null,
   "metadata": {},
   "outputs": [],
   "source": [
    "# f\n"
   ]
  },
  {
   "cell_type": "code",
   "execution_count": null,
   "metadata": {},
   "outputs": [],
   "source": [
    "# g\n"
   ]
  },
  {
   "cell_type": "code",
   "execution_count": null,
   "metadata": {},
   "outputs": [],
   "source": [
    "# h\n"
   ]
  },
  {
   "cell_type": "code",
   "execution_count": null,
   "metadata": {},
   "outputs": [],
   "source": [
    "# i\n"
   ]
  },
  {
   "cell_type": "markdown",
   "metadata": {},
   "source": [
    "### Strings\n",
    "\n",
    "```python\n",
    "# Example\n",
    "pangram = \"The five boxing wizards jump quickly.\"\n",
    "print(pangram[0])\n",
    "print(pangram.title())\n",
    "print(pangram.replace(\"five\", \"ten\"))\n",
    "```\n",
    "\n",
    "Exercise:\n",
    "1. Run the cell below to assign the variable pangram\n",
    "2. Use the `.upper()` method to print the pangram capital letters\n",
    "3. Use the `.replace()` method to replace the word `\"quickly\"` with `\"slowly\"`\n",
    "4. Use the square brackets `[`  `]` to print only letter `\"f\"` (from `\"five\"`)\n",
    "5. Use the square brackets `[`  `]` to print only the word `\"boxing\"`\n",
    "\n",
    "*Extra challenge*: explore other string methods in the [documentation](https://docs.python.org/3/library/stdtypes.html#string-methods)"
   ]
  },
  {
   "cell_type": "code",
   "execution_count": null,
   "metadata": {},
   "outputs": [],
   "source": [
    "# Exercise 1\n",
    "pangram = \"The five boxing wizards jump quickly.\""
   ]
  },
  {
   "cell_type": "code",
   "execution_count": null,
   "metadata": {},
   "outputs": [],
   "source": [
    "# Exercise 2\n"
   ]
  },
  {
   "cell_type": "code",
   "execution_count": null,
   "metadata": {},
   "outputs": [],
   "source": [
    "# Exercise 3\n"
   ]
  },
  {
   "cell_type": "code",
   "execution_count": null,
   "metadata": {},
   "outputs": [],
   "source": [
    "# Exercise 4\n"
   ]
  },
  {
   "cell_type": "code",
   "execution_count": null,
   "metadata": {},
   "outputs": [],
   "source": [
    "# Exercise 5\n"
   ]
  },
  {
   "cell_type": "code",
   "execution_count": null,
   "metadata": {},
   "outputs": [],
   "source": [
    "# Extra challenge\n"
   ]
  },
  {
   "cell_type": "markdown",
   "metadata": {},
   "source": [
    "### Getting user input\n",
    "\n",
    "```python\n",
    "# Example\n",
    "day = input(\"Which day is it? \")\n",
    "print(\"Today is\", day)\n",
    "```\n",
    "\n",
    "Exercises: \n",
    "1. Create a variable called `name`. Use the `input()` function to get the user's name\n",
    "2. Use the variable `name` to print a greeting to the screen, like `Hello, nice to meet you John`\n",
    "\n",
    "*Extra challenge*: print the sentence in the following format: `Hello John, how are you?`"
   ]
  },
  {
   "cell_type": "code",
   "execution_count": null,
   "metadata": {},
   "outputs": [],
   "source": [
    "# Exercise 1\n"
   ]
  },
  {
   "cell_type": "code",
   "execution_count": null,
   "metadata": {},
   "outputs": [],
   "source": [
    "# Exercise 2\n"
   ]
  },
  {
   "cell_type": "code",
   "execution_count": null,
   "metadata": {},
   "outputs": [],
   "source": [
    "# Extra challenge\n"
   ]
  },
  {
   "cell_type": "markdown",
   "metadata": {},
   "source": [
    "### Type casting\n",
    "\n",
    "```python\n",
    "# Examples\n",
    "days_per_week = 7\n",
    "str(days_per_week)\n",
    "\n",
    "score = \"6700\"\n",
    "int(score)\n",
    "```\n",
    "\n",
    "The exercise:\n",
    "1. Use the `str()` function to fix the bug in the code below\n",
    "2. Use the `int()` function to fix the bug in the code below\n",
    "\n",
    "*Extra challenge*: explore other functions like [float()](https://docs.python.org/3/library/functions.html#float) and [bool()](https://docs.python.org/3/library/functions.html?highlight=bool#bool) and how they deal with various inputs. "
   ]
  },
  {
   "cell_type": "code",
   "execution_count": null,
   "metadata": {},
   "outputs": [],
   "source": [
    "# Exercise 1\n",
    "number_of_moons = 79\n",
    "sentence = \"The total number of (known) moons for the planet Jupiter is \" + number_of_moons\n",
    "print(sentence)"
   ]
  },
  {
   "cell_type": "code",
   "execution_count": null,
   "metadata": {},
   "outputs": [],
   "source": [
    "# Exercise 2\n",
    "age_in_years = input(\"What is your age? \")\n",
    "age_in_months = age_in_years * 12\n",
    "print(\"Your age in months is:\", age_in_months)"
   ]
  },
  {
   "cell_type": "code",
   "execution_count": null,
   "metadata": {},
   "outputs": [],
   "source": [
    "# Extra challenge\n"
   ]
  }
 ],
 "metadata": {
  "kernelspec": {
   "display_name": "Python 3 (ipykernel)",
   "language": "python",
   "name": "python3"
  },
  "language_info": {
   "codemirror_mode": {
    "name": "ipython",
    "version": 3
   },
   "file_extension": ".py",
   "mimetype": "text/x-python",
   "name": "python",
   "nbconvert_exporter": "python",
   "pygments_lexer": "ipython3",
   "version": "3.9.12"
  }
 },
 "nbformat": 4,
 "nbformat_minor": 4
}
