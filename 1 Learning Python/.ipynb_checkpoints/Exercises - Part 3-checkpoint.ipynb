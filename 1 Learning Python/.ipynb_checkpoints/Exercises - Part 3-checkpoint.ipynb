{
 "cells": [
  {
   "cell_type": "markdown",
   "metadata": {},
   "source": [
    "### Comparison Operators\n",
    "\n",
    "```python\n",
    "a = 20\n",
    "b = 30\n",
    "print(a > b)\n",
    "```\n",
    "\n",
    "Exercises:\n",
    "\n",
    "1. Assign the variables `a = 20` and `b = 30`\n",
    "2. Print if `a` is equal to `b`\n",
    "3. Print if `a` is not equal to `b`\n",
    "4. Print if `a` is greater than `b`\n",
    "5. Print if `a` is smaller than `b`\n",
    "6. Print if `a` is greater than or equal to `b`\n",
    "7. Print if `a` is smaller than or equal to `b`"
   ]
  },
  {
   "cell_type": "code",
   "execution_count": null,
   "metadata": {},
   "outputs": [],
   "source": [
    "# Exercise 1\n",
    "\n"
   ]
  },
  {
   "cell_type": "code",
   "execution_count": null,
   "metadata": {},
   "outputs": [],
   "source": [
    "# Exercise 2\n"
   ]
  },
  {
   "cell_type": "code",
   "execution_count": null,
   "metadata": {},
   "outputs": [],
   "source": [
    "# Exercise 3\n"
   ]
  },
  {
   "cell_type": "code",
   "execution_count": null,
   "metadata": {},
   "outputs": [],
   "source": [
    "# Exercise 4\n"
   ]
  },
  {
   "cell_type": "code",
   "execution_count": null,
   "metadata": {},
   "outputs": [],
   "source": [
    "# Exercise 5\n"
   ]
  },
  {
   "cell_type": "code",
   "execution_count": null,
   "metadata": {},
   "outputs": [],
   "source": [
    "# Exercise 6\n"
   ]
  },
  {
   "cell_type": "code",
   "execution_count": null,
   "metadata": {},
   "outputs": [],
   "source": [
    "# Exercise 7\n"
   ]
  },
  {
   "cell_type": "markdown",
   "metadata": {},
   "source": [
    "### If / Else\n",
    "\n",
    "```python\n",
    "# Example\n",
    "if temperature > 85:\n",
    "    print(\"It is hot\")\n",
    "else:\n",
    "    print(\"It is nice\")\n",
    "```\n",
    "\n",
    "\n",
    "Exercises:\n",
    "\n",
    "1. Assign the variable `score = int(input(\"What was your (percentage) score? \"))`. Enter 80 in the prompt when you run the cell.\n",
    "2. A passing grade is 70% and above. Write a program with a `if` and `else` statement to check if a student has passed. If so, it should print `\"Passed\"`, else it should print `\"Failed\"`\n",
    "3. Write a program that uses if/else statements to convert a percentage score to a letter grade (see the table above). You will need multiple `elif` statements to include all the options. The output should be a print statement:\n",
    "`Your score of 99 corresponds with the letter grade A`\n",
    "4. Test if the program works for 95%, 72% and 60%\n",
    "\n",
    "| Percentage | Letter Grade |\n",
    "|:----------:|:------------:|\n",
    "|  90%–100%  |       A      |\n",
    "|   80%–89%  |       B      |\n",
    "|   70%–79%  |       C      |\n",
    "|   60%–69%  |       D      |\n",
    "|    < 60%   |       F      |\n",
    "\n",
    "\n"
   ]
  },
  {
   "cell_type": "code",
   "execution_count": null,
   "metadata": {},
   "outputs": [],
   "source": [
    "# Exercise 1\n"
   ]
  },
  {
   "cell_type": "code",
   "execution_count": null,
   "metadata": {},
   "outputs": [],
   "source": [
    "# Exercise 2\n",
    "\n"
   ]
  },
  {
   "cell_type": "code",
   "execution_count": null,
   "metadata": {},
   "outputs": [],
   "source": [
    "# Exercise 3\n",
    "\n"
   ]
  },
  {
   "cell_type": "code",
   "execution_count": null,
   "metadata": {},
   "outputs": [],
   "source": [
    "# Exercise 4\n",
    "\n"
   ]
  },
  {
   "cell_type": "markdown",
   "metadata": {},
   "source": [
    "### Logical and membership operators\n",
    "\n",
    "```python\n",
    "\n",
    "```\n",
    "\n",
    "Tickets for the theme park \"RollerCoasterLand\" normally cost $25. They also have promotions:\n",
    "- Free for children under 13\n",
    "- Free for elderly of 65 years and older\n",
    "\n",
    "\n",
    "Exercise:\n",
    "1. Use the `input()` function to get the age from the user and save it in a variable\n",
    "2. Create a program to calculate and print the price of the ticket. \n",
    "3. Test your program for various user inputs and check if it works correctly\n",
    "\n",
    "*Extra challenge*: Add another promotion: 40% discount for \"season pass\" holders. Use the `input()` function to ask if the user has a season pass and add logic to your program."
   ]
  },
  {
   "cell_type": "code",
   "execution_count": null,
   "metadata": {},
   "outputs": [],
   "source": [
    "# Exercise 1\n",
    "\n"
   ]
  },
  {
   "cell_type": "code",
   "execution_count": null,
   "metadata": {},
   "outputs": [],
   "source": [
    "# Exercise 2\n",
    "\n"
   ]
  },
  {
   "cell_type": "code",
   "execution_count": null,
   "metadata": {},
   "outputs": [],
   "source": [
    "# Exercise 3\n",
    "\n"
   ]
  },
  {
   "cell_type": "code",
   "execution_count": null,
   "metadata": {
    "scrolled": false
   },
   "outputs": [],
   "source": [
    "# Extra challenge \n",
    "\n"
   ]
  },
  {
   "cell_type": "markdown",
   "metadata": {},
   "source": [
    "### For Loops\n",
    "\n",
    "```python\n",
    "# Example\n",
    "ingredients = [\"spam\", \"bacon\", \"ham\", \"eggs\"]\n",
    "for item in ingredients:\n",
    "    print(item)\n",
    "```\n",
    "\n",
    "1. Assign the variable `planets = [\"Mercury\", \"Venus\", \"Earth\", \"Mars\", \"Jupiter\", \"Saturn\", \"Uranus\", \"Neptune\"]`\n",
    "2. Create a for loop to print every planet to the screen (one by one, on seperate lines)\n",
    "3. We are only interested in *other* planets. So create a for loop again that prints all the planets, except for \"Earth\" (hint: use a `if` statement and the `continue` statement)\n",
    "\n",
    "*Extra challenge*: create a loop that prints all the planets, but now with their respective place number in the list. So the expected output is:\n",
    "```\n",
    "1 Mercury\n",
    "2 Venus\n",
    "3 Earth\n",
    "...etc\n",
    "```"
   ]
  },
  {
   "cell_type": "code",
   "execution_count": null,
   "metadata": {},
   "outputs": [],
   "source": [
    "# Exercise 1 \n"
   ]
  },
  {
   "cell_type": "code",
   "execution_count": null,
   "metadata": {},
   "outputs": [],
   "source": [
    "# Exercise 2\n",
    "\n"
   ]
  },
  {
   "cell_type": "code",
   "execution_count": null,
   "metadata": {},
   "outputs": [],
   "source": [
    "# Exercise 3\n",
    "\n"
   ]
  },
  {
   "cell_type": "code",
   "execution_count": null,
   "metadata": {},
   "outputs": [],
   "source": [
    "# Extra challenge\n",
    "\n"
   ]
  },
  {
   "cell_type": "markdown",
   "metadata": {},
   "source": [
    "### While Loops\n",
    "\n",
    "```python\n",
    "# Example\n",
    "x = 0\n",
    "while x < 5:\n",
    "    print(x)\n",
    "    x = x + 1\n",
    "```\n",
    "\n",
    "Exercise: \n",
    "1. Create a `while` loop that prints `even` numbers from 0 to 10 (so 0, 2, 4, 6, etc.)\n",
    "2. Create a `while` loop that prints `even` numbers to screen, but stops (`breaks`) after 4"
   ]
  },
  {
   "cell_type": "code",
   "execution_count": null,
   "metadata": {},
   "outputs": [],
   "source": [
    "# Exercise 1\n",
    "\n"
   ]
  },
  {
   "cell_type": "code",
   "execution_count": null,
   "metadata": {},
   "outputs": [],
   "source": [
    "# Exercise 2\n",
    "\n"
   ]
  },
  {
   "cell_type": "markdown",
   "metadata": {},
   "source": [
    "### Range\n",
    "\n",
    "```python\n",
    "# Example range\n",
    "for n in range(5):\n",
    "    print(n)\n",
    "```\n",
    "\n",
    "Exercises: \n",
    "1. Create a loop with the `range()` function that prints the numbers from 0 to 10\n",
    "2. Create a loop with the `range()` function that prints the `even` numbers from 10 to 20\n",
    "\n",
    "Documentation: https://docs.python.org/3/library/stdtypes.html#range"
   ]
  },
  {
   "cell_type": "code",
   "execution_count": null,
   "metadata": {},
   "outputs": [],
   "source": [
    "# Exercise 1\n",
    "\n"
   ]
  },
  {
   "cell_type": "code",
   "execution_count": null,
   "metadata": {},
   "outputs": [],
   "source": [
    "# Exercise 2\n",
    "\n"
   ]
  },
  {
   "cell_type": "markdown",
   "metadata": {},
   "source": [
    "### Enumerate\n",
    "\n",
    "```python\n",
    "# Example\n",
    "ingredients = [\"egg\", \"bacon\", \"sausage\", \"spam\"]\n",
    "\n",
    "for i, item in enumerate(ingredients, start=0):\n",
    "    print(i, item)\n",
    "```\n",
    "\n",
    "Exercises: \n",
    "1. Assign the variable `databases = [\"MySQL\", \"PostgreSQL\", \"MongoDB\", \"Redis\"]`\n",
    "2. Use the `enumerate()` function to print the databases with their respective position in the list.\n",
    "\n",
    "```\n",
    "# Desired output\n",
    "1 MySQL\n",
    "2 PostgreSQL\n",
    "3 MongoDB\n",
    "4 Redis\n",
    "```\n",
    "\n"
   ]
  },
  {
   "cell_type": "code",
   "execution_count": null,
   "metadata": {},
   "outputs": [],
   "source": [
    "# Exercise 1\n"
   ]
  },
  {
   "cell_type": "code",
   "execution_count": null,
   "metadata": {},
   "outputs": [],
   "source": [
    "# Exercise 2\n",
    "\n"
   ]
  },
  {
   "cell_type": "markdown",
   "metadata": {},
   "source": [
    "### Loop over Dictionaries\n",
    "\n",
    "```python\n",
    "# Example\n",
    "grades = {\"French\": 75, \"English\": 95, \"Math\": 100, \"Biology\": 80}\n",
    "for key, value in grades.items():\n",
    "    print(key, value)\n",
    "```\n",
    "\n",
    "Exercise:\n",
    "1. Assign the variable `person = {\"name\": \"Alice\", \"age\": 42, \"email\": \"alice@wonderland.com\", \"country\": \"U.K.\"}`\n",
    "2. Create a loop using the `.items()` method to print all the key/value pairs. The output should look as follows:\n",
    "\n",
    "```\n",
    "# Desired output\n",
    "name: Alice\n",
    "age: 42\n",
    "email: alice@wonderland.com\n",
    "country: U.K.\n",
    "```\n",
    "\n",
    "*Extra challenge*: Search the internet on how to print the items (justified) with padding, so it looks a little nicer:\n",
    "\n",
    "```\n",
    "# Desired output\n",
    "name      : Alice\n",
    "age       : 42\n",
    "email     : alice@wonderland.com\n",
    "country   : U.K.\n",
    "```"
   ]
  },
  {
   "cell_type": "code",
   "execution_count": null,
   "metadata": {},
   "outputs": [],
   "source": [
    "# Exercise 1\n"
   ]
  },
  {
   "cell_type": "code",
   "execution_count": null,
   "metadata": {},
   "outputs": [],
   "source": [
    "# Exercise 2\n",
    "\n"
   ]
  },
  {
   "cell_type": "code",
   "execution_count": null,
   "metadata": {},
   "outputs": [],
   "source": [
    "# Extra challenge\n",
    "\n"
   ]
  }
 ],
 "metadata": {
  "kernelspec": {
   "display_name": "Python 3 (ipykernel)",
   "language": "python",
   "name": "python3"
  },
  "language_info": {
   "codemirror_mode": {
    "name": "ipython",
    "version": 3
   },
   "file_extension": ".py",
   "mimetype": "text/x-python",
   "name": "python",
   "nbconvert_exporter": "python",
   "pygments_lexer": "ipython3",
   "version": "3.9.12"
  }
 },
 "nbformat": 4,
 "nbformat_minor": 4
}
