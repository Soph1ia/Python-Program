{
 "cells": [
  {
   "attachments": {},
   "cell_type": "markdown",
   "metadata": {},
   "source": [
    "# Introduction \n",
    "This chapter you will learn how to create a basic website with Python using Flask.\n",
    "\n",
    "Flask is a small and lightweight Python web framework that provides useful tools and features that make creating web applications in Python easier. It gives developers flexibility and is a more accessible framework for new developers since you can build a web application quickly using only a single Python file. Flask is also extensible and doesn’t force a particular directory structure or require complicated boilerplate code before getting started.\n",
    "\n",
    "Let's Get Started! \n",
    "\n",
    "## Step One : Install Flask \n",
    "In order to use it we will first need to install flask. \n",
    "- Open The Terminal \n",
    "- Run the following command : "
   ]
  },
  {
   "cell_type": "code",
   "execution_count": null,
   "metadata": {},
   "outputs": [],
   "source": [
    "pip install Flask"
   ]
  },
  {
   "attachments": {},
   "cell_type": "markdown",
   "metadata": {},
   "source": [
    "## Step Two : Create Folders\n",
    "Create the following folders \n",
    "- Website, this is going to be where everything will go into. Inside this folder create : \n",
    "    - Static , this is where all of your CSS files will go\n",
    "    - Templates , this is where all of your HTML files will go.\n",
    "\n",
    "## Step Three : Create Files \n",
    "Create the following files\n",
    "- under templates create, index.html\n",
    "- under static create, index.css\n",
    "- also create index.js, in the website folder\n",
    "\n",
    "## Step Four : Add Code To Index.js \n",
    "This code creates a basic Flask application with a single route that returns the string \"Hello, World!\" when you navigate to the root URL of your website.\n",
    "\n",
    "Write the following code into your index.js file "
   ]
  },
  {
   "cell_type": "code",
   "execution_count": null,
   "metadata": {},
   "outputs": [],
   "source": [
    "# Write This Code into your index.js file \n",
    "\n",
    "from flask import Flask\n",
    "\n",
    "app = Flask(__name__)\n",
    "\n",
    "@app.route('/')\n",
    "def index():b\n",
    "    return 'Hello, World!'"
   ]
  },
  {
   "attachments": {},
   "cell_type": "markdown",
   "metadata": {},
   "source": [
    "## Step Five : Run The Flask Application \n",
    "Run the following command in the terminal. This will call flask to run your python website."
   ]
  },
  {
   "cell_type": "code",
   "execution_count": null,
   "metadata": {},
   "outputs": [],
   "source": [
    "flask run"
   ]
  },
  {
   "attachments": {},
   "cell_type": "markdown",
   "metadata": {},
   "source": [
    "## Step Six : Test The application \n",
    "\n",
    "You have just completed your first Python Website. \n",
    "To View it in a browser you can see a popup in this window, or search \n",
    "Test the application: Open up a web browser and navigate to http://127.0.0.1:5000/. \n",
    "You should see the string \"Hello, World!\" displayed in your browser."
   ]
  },
  {
   "attachments": {},
   "cell_type": "markdown",
   "metadata": {},
   "source": [
    "## Continue Onwards: \n",
    "\n",
    "Currently your application only displays a simple message without any HTML. Web applications mainly use HTML to display information for the visitor, so you’ll now work on incorporating HTML files in your app, which can be displayed on the web browser.\n",
    "\n",
    "Flask provides a render_template() helper function that allows use of the Jinja template engine. This will make managing HTML much easier by writing your HTML code in .html files as well as using logic in your HTML code. You’ll use these HTML files, (templates) to build all of your application pages, such as the main page where you’ll display the current blog posts, the page of the blog post, the page where the user can add a new post, and so on."
   ]
  },
  {
   "cell_type": "code",
   "execution_count": null,
   "metadata": {},
   "outputs": [],
   "source": [
    "from flask import Flask, render_template\n",
    "\n",
    "app = Flask(__name__)\n",
    "\n",
    "@app.route('/')\n",
    "def hello():\n",
    "    return render_template('index.html')"
   ]
  },
  {
   "attachments": {},
   "cell_type": "markdown",
   "metadata": {},
   "source": [
    "## Conclusion \n",
    "\n",
    "Now you are ready to mess around with HTML. Flask will now look to find your index.html and display it to the webpage. \n",
    "\n",
    "We will learn how to use html, and css, and by the end of this chapter you will have your very own webpage. "
   ]
  },
  {
   "cell_type": "markdown",
   "metadata": {},
   "source": []
  }
 ],
 "metadata": {
  "kernelspec": {
   "display_name": "Python 3",
   "language": "python",
   "name": "python3"
  },
  "language_info": {
   "codemirror_mode": {
    "name": "ipython",
    "version": 3
   },
   "file_extension": ".py",
   "mimetype": "text/x-python",
   "name": "python",
   "nbconvert_exporter": "python",
   "pygments_lexer": "ipython3",
   "version": "3.10.4"
  },
  "orig_nbformat": 4
 },
 "nbformat": 4,
 "nbformat_minor": 2
}
